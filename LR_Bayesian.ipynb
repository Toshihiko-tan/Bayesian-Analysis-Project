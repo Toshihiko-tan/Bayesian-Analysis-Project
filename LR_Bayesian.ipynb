{
 "cells": [
  {
   "cell_type": "code",
   "execution_count": null,
   "metadata": {},
   "outputs": [],
   "source": [
    "import pandas as pd\n",
    "import numpy as np\n",
    "import matplotlib.pyplot as plt\n",
    "import seaborn as sns\n",
    "from sklearn.model_selection import train_test_split\n",
    "from sklearn.preprocessing import StandardScaler\n",
    "import statsmodels.api as sm\n",
    "import pystan\n",
    "\n",
    "from read_data import df\n"
   ]
  },
  {
   "cell_type": "code",
   "execution_count": null,
   "metadata": {},
   "outputs": [],
   "source": [
    "df['DEATH_EVENT'].value_counts()"
   ]
  },
  {
   "cell_type": "code",
   "execution_count": null,
   "metadata": {},
   "outputs": [],
   "source": [
    "na_counts = df.isna().sum()\n",
    "na_counts"
   ]
  },
  {
   "cell_type": "code",
   "execution_count": null,
   "metadata": {},
   "outputs": [],
   "source": [
    "df"
   ]
  },
  {
   "cell_type": "code",
   "execution_count": null,
   "metadata": {},
   "outputs": [],
   "source": [
    "smoke = df[df['smoking'] == 1]\n",
    "no_smoke = df[df['smoking'] == 0]\n",
    "male = df[df['sex'] == 1]\n",
    "female = df[df['sex'] == 0]"
   ]
  },
  {
   "cell_type": "code",
   "execution_count": null,
   "metadata": {},
   "outputs": [],
   "source": [
    "female"
   ]
  },
  {
   "cell_type": "code",
   "execution_count": null,
   "metadata": {},
   "outputs": [],
   "source": [
    "is_binary = df.isin([0,1]).all().values\n",
    "bin_names = df.columns[is_binary].tolist()\n",
    "quant_names = df.columns[~is_binary].tolist()"
   ]
  },
  {
   "cell_type": "code",
   "execution_count": null,
   "metadata": {},
   "outputs": [],
   "source": [
    "df_binary = df[bin_names]\n",
    "\n",
    "# Calculating the correlation matrix for binary variables\n",
    "corr_matrix = df_binary.corr()\n",
    "\n",
    "# Plotting the correlation matrix\n",
    "plt.figure(figsize=(10, 8))\n",
    "sns.heatmap(corr_matrix, annot=True, cmap='coolwarm', fmt=\".2f\")\n",
    "plt.title(\"Correlation Matrix of Binary Variables\")\n",
    "plt.show()"
   ]
  },
  {
   "cell_type": "markdown",
   "metadata": {},
   "source": [
    "From this correlation matrix we can see that there is a relationship between sex and smoking, with female composed of the majority of non-smoker. This mean we need to further handling this dependency while we build the model."
   ]
  },
  {
   "cell_type": "code",
   "execution_count": null,
   "metadata": {},
   "outputs": [],
   "source": [
    "df_quant = df[quant_names]\n",
    "corr_matrix_cont = df_quant.corr()\n",
    "\n",
    "# Plotting the correlation matrix for continuous variables\n",
    "plt.figure(figsize=(10, 8))\n",
    "sns.heatmap(corr_matrix_cont, annot=True, cmap='coolwarm', fmt=\".2f\")\n",
    "plt.title(\"Correlation Matrix of Continuous Variables\")\n",
    "plt.show()"
   ]
  },
  {
   "cell_type": "code",
   "execution_count": null,
   "metadata": {},
   "outputs": [],
   "source": [
    "y = df['DEATH_EVENT']\n",
    "X = df.drop(columns = {'DEATH_EVENT', 'time'})"
   ]
  },
  {
   "cell_type": "code",
   "execution_count": null,
   "metadata": {},
   "outputs": [],
   "source": [
    "X_train, X_test, y_train, y_test = train_test_split(X, y, test_size=0.3, stratify=y, random_state=42)\n",
    "\n",
    "scaler = StandardScaler()\n",
    "X_train_scaled = scaler.fit_transform(X_train)\n",
    "X_test_scaled = scaler.transform(X_test)"
   ]
  },
  {
   "cell_type": "code",
   "execution_count": null,
   "metadata": {},
   "outputs": [],
   "source": [
    "X_train_sm = sm.add_constant(X_train_scaled)\n",
    "X_test_sm = sm.add_constant(X_test_scaled)\n",
    "\n",
    "# Fitting the logistic regression model\n",
    "logit_model = sm.Logit(y_train, X_train_sm).fit()\n",
    "\n",
    "# Extracting the summary which includes p-values among other statistics\n",
    "model_summary = logit_model.summary()\n",
    "\n",
    "y_pred = logit_model.predict(X_test_sm)\n",
    "# accuracy = accuracy_score(y_pred, y_test)\n",
    "\n",
    "# print(f\"Accuracy: {accuracy}\")\n",
    "\n",
    "model_summary"
   ]
  },
  {
   "cell_type": "code",
   "execution_count": null,
   "metadata": {},
   "outputs": [],
   "source": [
    "stan_model_code = \"\"\"\n",
    "data {\n",
    "    int<lower=0> N; // Number of data points\n",
    "    int<lower=0,upper=1> y[N]; // Outcome variable (0 or 1)\n",
    "    vector[N] x; // Predictor variable\n",
    "}\n",
    "parameters {\n",
    "    real alpha; // Intercept\n",
    "    real beta; // Slope\n",
    "}\n",
    "model {\n",
    "    // Priors\n",
    "    alpha ~ normal(0, 10);\n",
    "    beta ~ normal(0, 10);\n",
    "\n",
    "    // Likelihood\n",
    "    for (i in 1:N)\n",
    "        y[i] ~ bernoulli_logit(alpha + beta * x[i]);\n",
    "}\n",
    "\"\"\"\n",
    "\n",
    "# Data for Stan model\n",
    "data = {\n",
    "    'N': len(y),\n",
    "    'y': y,\n",
    "    'x': X['age'],\n",
    "}\n",
    "\n",
    "# Compile and fit the model\n",
    "stan_model = pystan.StanModel(model_code=stan_model_code)\n",
    "# fit = stan_model.sampling(data=data, iter=3000, chains=4, warmup=1000, seed=101)\n",
    "\n",
    "# # Extract and print summary of the model fit\n",
    "# fit_summary = fit.summary()\n",
    "# print(fit_summary)"
   ]
  },
  {
   "cell_type": "code",
   "execution_count": null,
   "metadata": {},
   "outputs": [],
   "source": [
    "fit = stan_model.sampling(data=data, iter=3000, chains=4, warmup=1000, seed=101)\n"
   ]
  }
 ],
 "metadata": {
  "kernelspec": {
   "display_name": "env",
   "language": "python",
   "name": "python3"
  },
  "language_info": {
   "codemirror_mode": {
    "name": "ipython",
    "version": 3
   },
   "file_extension": ".py",
   "mimetype": "text/x-python",
   "name": "python",
   "nbconvert_exporter": "python",
   "pygments_lexer": "ipython3",
   "version": "3.11.5"
  }
 },
 "nbformat": 4,
 "nbformat_minor": 2
}
